{
 "cells": [
  {
   "cell_type": "code",
   "execution_count": 160,
   "metadata": {},
   "outputs": [],
   "source": [
    "import sys\n",
    "from os import path\n",
    "import json\n",
    "\n",
    "import torch\n",
    "from ipypb import ipb\n",
    "# import numpy\n",
    "import multiprocess as mp\n",
    "from joblib import Parallel, delayed\n",
    "\n",
    "from networks import *\n",
    "from data import *\n",
    "from utils import *\n",
    "from mol_spec import *\n",
    "from rdkit.Chem.Draw import IPythonConsole\n",
    "from rdkit import Chem\n",
    "from rdkit.Chem import Draw, AllChem\n",
    "import dgl"
   ]
  },
  {
   "cell_type": "code",
   "execution_count": 161,
   "metadata": {},
   "outputs": [],
   "source": [
    "device='cpu'\n",
    "config_id='naive3'\n",
    "device='cpu'\n",
    "c_file='data-center/scaffolds_c.smi'\n",
    "file='data-center/scaffolds_a.smi'\n",
    "scaffold_idx=333333\n",
    "model_idx=3\n",
    "num_gen=20\n",
    "np=mp.cpu_count()\n",
    "mode='all'"
   ]
  },
  {
   "cell_type": "code",
   "execution_count": 162,
   "metadata": {},
   "outputs": [],
   "source": [
    "model_ckpt = f'ckpt/{config_id}/model_{model_idx}.ckpt'"
   ]
  },
  {
   "cell_type": "code",
   "execution_count": 165,
   "metadata": {},
   "outputs": [
    {
     "data": {
      "image/png": "[encoded data removed]",
      "text/plain": [
       "<rdkit.Chem.rdchem.Mol at 0x7efedc73fe90>"
      ]
     },
     "execution_count": 165,
     "metadata": {},
     "output_type": "execute_result"
    }
   ],
   "source": [
    "Chem.MolFromSmiles(str_from_line(file, scaffold_idx))"
   ]
  },
  {
   "cell_type": "code",
   "execution_count": 166,
   "metadata": {},
   "outputs": [
    {
     "name": "stderr",
     "output_type": "stream",
     "text": [
      "/opt/conda/lib/python3.7/site-packages/torch/serialization.py:454: SourceChangeWarning: source code of class 'networks.GraphInf' has changed. you can retrieve the original source code by accessing the object's source attribute or set `torch.nn.Module.dump_patches = True` and use the patch tool to revert the changes.\n",
      "  warnings.warn(msg, SourceChangeWarning)\n"
     ]
    }
   ],
   "source": [
    "model = torch.load(model_ckpt, map_location=device).eval()"
   ]
  },
  {
   "cell_type": "code",
   "execution_count": 167,
   "metadata": {},
   "outputs": [],
   "source": [
    "c_smiles = str_from_line(c_file, scaffold_idx)\n",
    "smiles = str_from_line(file, scaffold_idx)"
   ]
  },
  {
   "cell_type": "code",
   "execution_count": 168,
   "metadata": {},
   "outputs": [
    {
     "data": {
      "image/png": "[encoded data removed]",
      "text/plain": [
       "<rdkit.Chem.rdchem.Mol at 0x7efe96e2a080>"
      ]
     },
     "execution_count": 168,
     "metadata": {},
     "output_type": "execute_result"
    }
   ],
   "source": [
    "Chem.MolFromSmiles(c_smiles)"
   ]
  },
  {
   "cell_type": "code",
   "execution_count": 169,
   "metadata": {},
   "outputs": [],
   "source": [
    "g, cg = smiles_to_dgl_graph(smiles)\n",
    "whole_g, whole_cg = graph_to_whole_graph(g), graph_to_whole_graph(cg)"
   ]
  },
  {
   "cell_type": "code",
   "execution_count": 170,
   "metadata": {},
   "outputs": [],
   "source": [
    "num_N = whole_cg.number_of_nodes()\n",
    "num_E = whole_cg.number_of_edges()\n",
    "adj = whole_cg.adjacency_matrix().coalesce()\n",
    "indices = torch.cat(\n",
    "    [adj.indices(), torch.arange(0, num_N).repeat(2, 1)],\n",
    "    dim=-1\n",
    ")\n",
    "values = torch.ones(num_E + num_N)\n",
    "s_adj = torch.sparse_coo_tensor(\n",
    "    indices,\n",
    "    values,\n",
    "    torch.Size([num_N, num_N])\n",
    ")\n",
    "c_nfeat = whole_cg.ndata['feat'].to(device)\n",
    "c_nfeat = onehot_to_label(c_nfeat)"
   ]
  },
  {
   "cell_type": "code",
   "execution_count": 171,
   "metadata": {},
   "outputs": [],
   "source": [
    "x_inf = model.inf(c_nfeat, s_adj).cpu().detach()"
   ]
  },
  {
   "cell_type": "code",
   "execution_count": 180,
   "metadata": {},
   "outputs": [],
   "source": [
    "import importlib\n",
    "import utils\n",
    "\n",
    "utils = importlib.reload(utils)\n",
    "\n",
    "a = utils.get_mols_from_array(x_inf, smiles, num_gen, sanitize=False)"
   ]
  },
  {
   "cell_type": "code",
   "execution_count": 181,
   "metadata": {},
   "outputs": [
    {
     "data": {
      "text/plain": [
       "[<rdkit.Chem.rdchem.RWMol at 0x7efec009b298>,\n",
       " <rdkit.Chem.rdchem.RWMol at 0x7efec009b0a0>,\n",
       " <rdkit.Chem.rdchem.RWMol at 0x7efec009b5a8>,\n",
       " <rdkit.Chem.rdchem.RWMol at 0x7efec009bae8>,\n",
       " <rdkit.Chem.rdchem.RWMol at 0x7efec009ba78>,\n",
       " <rdkit.Chem.rdchem.RWMol at 0x7efec009b030>,\n",
       " <rdkit.Chem.rdchem.RWMol at 0x7efec009b068>,\n",
       " <rdkit.Chem.rdchem.RWMol at 0x7efec0081a40>,\n",
       " <rdkit.Chem.rdchem.RWMol at 0x7efec0081f80>,\n",
       " <rdkit.Chem.rdchem.RWMol at 0x7efec0081b20>,\n",
       " <rdkit.Chem.rdchem.RWMol at 0x7efec0081fb8>,\n",
       " <rdkit.Chem.rdchem.RWMol at 0x7efec0081ae8>,\n",
       " <rdkit.Chem.rdchem.RWMol at 0x7efec0081ab0>,\n",
       " <rdkit.Chem.rdchem.RWMol at 0x7efedc7f3500>,\n",
       " <rdkit.Chem.rdchem.RWMol at 0x7efe96e6de30>,\n",
       " <rdkit.Chem.rdchem.RWMol at 0x7efe96e6dae8>,\n",
       " <rdkit.Chem.rdchem.RWMol at 0x7efe96e6d880>,\n",
       " <rdkit.Chem.rdchem.RWMol at 0x7efe96e6d7d8>,\n",
       " <rdkit.Chem.rdchem.RWMol at 0x7efe96e6df48>,\n",
       " <rdkit.Chem.rdchem.RWMol at 0x7efedc778688>]"
      ]
     },
     "execution_count": 181,
     "metadata": {},
     "output_type": "execute_result"
    }
   ],
   "source": [
    "a"
   ]
  },
  {
   "cell_type": "code",
   "execution_count": 185,
   "metadata": {},
   "outputs": [
    {
     "name": "stderr",
     "output_type": "stream",
     "text": [
      "RDKit ERROR: [00:27:39] \n",
      "RDKit ERROR: \n",
      "RDKit ERROR: ****\n",
      "RDKit ERROR: Pre-condition Violation\n",
      "RDKit ERROR: getExplicitValence() called without call to calcExplicitValence()\n",
      "RDKit ERROR: Violation occurred on line 161 in file /opt/conda/conda-bld/rdkit_1561471048963/work/Code/GraphMol/Atom.cpp\n",
      "RDKit ERROR: Failed Expression: d_explicitValence > -1\n",
      "RDKit ERROR: ****\n",
      "RDKit ERROR: \n",
      "RDKit ERROR: [00:27:45] \n",
      "RDKit ERROR: \n",
      "RDKit ERROR: ****\n",
      "RDKit ERROR: Pre-condition Violation\n",
      "RDKit ERROR: getExplicitValence() called without call to calcExplicitValence()\n",
      "RDKit ERROR: Violation occurred on line 161 in file /opt/conda/conda-bld/rdkit_1561471048963/work/Code/GraphMol/Atom.cpp\n",
      "RDKit ERROR: Failed Expression: d_explicitValence > -1\n",
      "RDKit ERROR: ****\n",
      "RDKit ERROR: \n",
      "RDKit ERROR: [00:27:52] \n",
      "RDKit ERROR: \n",
      "RDKit ERROR: ****\n",
      "RDKit ERROR: Pre-condition Violation\n",
      "RDKit ERROR: getExplicitValence() called without call to calcExplicitValence()\n",
      "RDKit ERROR: Violation occurred on line 161 in file /opt/conda/conda-bld/rdkit_1561471048963/work/Code/GraphMol/Atom.cpp\n",
      "RDKit ERROR: Failed Expression: d_explicitValence > -1\n",
      "RDKit ERROR: ****\n",
      "RDKit ERROR: \n",
      "RDKit ERROR: [00:27:52] Can't kekulize mol.  Unkekulized atoms: 15 17 18 19 20\n",
      "RDKit ERROR: \n"
     ]
    },
    {
     "data": {
      "image/png": "[encoded data removed]",
      "text/plain": [
       "<rdkit.Chem.rdchem.RWMol at 0x7efec009ba78>"
      ]
     },
     "execution_count": 185,
     "metadata": {},
     "output_type": "execute_result"
    }
   ],
   "source": [
    "a[4]"
   ]
  },
  {
   "cell_type": "code",
   "execution_count": 157,
   "metadata": {},
   "outputs": [
    {
     "name": "stdout",
     "output_type": "stream",
     "text": [
      "AROMATIC\n",
      "AROMATIC\n",
      "AROMATIC\n",
      "SINGLE\n",
      "SINGLE\n",
      "SINGLE\n",
      "AROMATIC\n",
      "AROMATIC\n",
      "AROMATIC\n",
      "SINGLE\n",
      "SINGLE\n",
      "SINGLE\n",
      "SINGLE\n",
      "AROMATIC\n",
      "AROMATIC\n",
      "AROMATIC\n",
      "AROMATIC\n",
      "AROMATIC\n",
      "AROMATIC\n",
      "AROMATIC\n",
      "AROMATIC\n",
      "AROMATIC\n",
      "SINGLE\n"
     ]
    }
   ],
   "source": [
    "for b in a[10].GetBonds():\n",
    "    print(b.GetBondType())"
   ]
  },
  {
   "cell_type": "code",
   "execution_count": 122,
   "metadata": {},
   "outputs": [
    {
     "name": "stderr",
     "output_type": "stream",
     "text": [
      "RDKit ERROR: [22:53:10] Can't kekulize mol.  Unkekulized atoms: 13 14 15\n",
      "RDKit ERROR: \n"
     ]
    },
    {
     "ename": "ValueError",
     "evalue": "Sanitization error: Can't kekulize mol.  Unkekulized atoms: 13 14 15\n",
     "output_type": "error",
     "traceback": [
      "\u001b[0;31m---------------------------------------------------------------------------\u001b[0m",
      "\u001b[0;31mValueError\u001b[0m                                Traceback (most recent call last)",
      "\u001b[0;32m<ipython-input-122-a9862754d235>\u001b[0m in \u001b[0;36m<module>\u001b[0;34m\u001b[0m\n\u001b[0;32m----> 1\u001b[0;31m \u001b[0mDraw\u001b[0m\u001b[0;34m.\u001b[0m\u001b[0mMolsToGridImage\u001b[0m\u001b[0;34m(\u001b[0m\u001b[0ma\u001b[0m\u001b[0;34m,\u001b[0m\u001b[0mmolsPerRow\u001b[0m\u001b[0;34m=\u001b[0m\u001b[0;36m5\u001b[0m\u001b[0;34m,\u001b[0m\u001b[0msubImgSize\u001b[0m\u001b[0;34m=\u001b[0m\u001b[0;34m(\u001b[0m\u001b[0;36m200\u001b[0m\u001b[0;34m,\u001b[0m\u001b[0;36m200\u001b[0m\u001b[0;34m)\u001b[0m\u001b[0;34m)\u001b[0m\u001b[0;34m\u001b[0m\u001b[0;34m\u001b[0m\u001b[0m\n\u001b[0m",
      "\u001b[0;32m/opt/conda/lib/python3.7/site-packages/rdkit/Chem/Draw/IPythonConsole.py\u001b[0m in \u001b[0;36mShowMols\u001b[0;34m(mols, maxMols, **kwargs)\u001b[0m\n\u001b[1;32m    190\u001b[0m                 \u001b[0mkwargs\u001b[0m\u001b[0;34m[\u001b[0m\u001b[0mprop\u001b[0m\u001b[0;34m]\u001b[0m \u001b[0;34m=\u001b[0m \u001b[0mkwargs\u001b[0m\u001b[0;34m[\u001b[0m\u001b[0mprop\u001b[0m\u001b[0;34m]\u001b[0m\u001b[0;34m[\u001b[0m\u001b[0;34m:\u001b[0m\u001b[0mmaxMols\u001b[0m\u001b[0;34m]\u001b[0m\u001b[0;34m\u001b[0m\u001b[0;34m\u001b[0m\u001b[0m\n\u001b[1;32m    191\u001b[0m \u001b[0;34m\u001b[0m\u001b[0m\n\u001b[0;32m--> 192\u001b[0;31m     \u001b[0mres\u001b[0m \u001b[0;34m=\u001b[0m \u001b[0mfn\u001b[0m\u001b[0;34m(\u001b[0m\u001b[0mmols\u001b[0m\u001b[0;34m,\u001b[0m \u001b[0;34m**\u001b[0m\u001b[0mkwargs\u001b[0m\u001b[0;34m)\u001b[0m\u001b[0;34m\u001b[0m\u001b[0;34m\u001b[0m\u001b[0m\n\u001b[0m\u001b[1;32m    193\u001b[0m     \u001b[0;32mif\u001b[0m \u001b[0mkwargs\u001b[0m\u001b[0;34m[\u001b[0m\u001b[0;34m'useSVG'\u001b[0m\u001b[0;34m]\u001b[0m\u001b[0;34m:\u001b[0m\u001b[0;34m\u001b[0m\u001b[0;34m\u001b[0m\u001b[0m\n\u001b[1;32m    194\u001b[0m         \u001b[0;32mreturn\u001b[0m \u001b[0mSVG\u001b[0m\u001b[0;34m(\u001b[0m\u001b[0mres\u001b[0m\u001b[0;34m)\u001b[0m\u001b[0;34m\u001b[0m\u001b[0;34m\u001b[0m\u001b[0m\n",
      "\u001b[0;32m/opt/conda/lib/python3.7/site-packages/rdkit/Chem/Draw/__init__.py\u001b[0m in \u001b[0;36mMolsToGridImage\u001b[0;34m(mols, molsPerRow, subImgSize, legends, highlightAtomLists, highlightBondLists, useSVG, **kwargs)\u001b[0m\n\u001b[1;32m    472\u001b[0m     return _MolsToGridImage(mols, molsPerRow=molsPerRow, subImgSize=subImgSize, legends=legends,\n\u001b[1;32m    473\u001b[0m                             \u001b[0mhighlightAtomLists\u001b[0m\u001b[0;34m=\u001b[0m\u001b[0mhighlightAtomLists\u001b[0m\u001b[0;34m,\u001b[0m\u001b[0;34m\u001b[0m\u001b[0;34m\u001b[0m\u001b[0m\n\u001b[0;32m--> 474\u001b[0;31m                             highlightBondLists=highlightBondLists, **kwargs)\n\u001b[0m\u001b[1;32m    475\u001b[0m \u001b[0;34m\u001b[0m\u001b[0m\n\u001b[1;32m    476\u001b[0m \u001b[0;34m\u001b[0m\u001b[0m\n",
      "\u001b[0;32m/opt/conda/lib/python3.7/site-packages/rdkit/Chem/Draw/__init__.py\u001b[0m in \u001b[0;36m_MolsToGridImage\u001b[0;34m(mols, molsPerRow, subImgSize, legends, highlightAtomLists, highlightBondLists, **kwargs)\u001b[0m\n\u001b[1;32m    426\u001b[0m     d2d.DrawMolecules(\n\u001b[1;32m    427\u001b[0m       \u001b[0mlist\u001b[0m\u001b[0;34m(\u001b[0m\u001b[0mmols\u001b[0m\u001b[0;34m)\u001b[0m\u001b[0;34m,\u001b[0m \u001b[0mlegends\u001b[0m\u001b[0;34m=\u001b[0m\u001b[0mlegends\u001b[0m\u001b[0;34m,\u001b[0m \u001b[0mhighlightAtoms\u001b[0m\u001b[0;34m=\u001b[0m\u001b[0mhighlightAtomLists\u001b[0m\u001b[0;34m,\u001b[0m\u001b[0;34m\u001b[0m\u001b[0;34m\u001b[0m\u001b[0m\n\u001b[0;32m--> 428\u001b[0;31m       highlightBonds=highlightBondLists, **kwargs)\n\u001b[0m\u001b[1;32m    429\u001b[0m     \u001b[0md2d\u001b[0m\u001b[0;34m.\u001b[0m\u001b[0mFinishDrawing\u001b[0m\u001b[0;34m(\u001b[0m\u001b[0;34m)\u001b[0m\u001b[0;34m\u001b[0m\u001b[0;34m\u001b[0m\u001b[0m\n\u001b[1;32m    430\u001b[0m     \u001b[0mres\u001b[0m \u001b[0;34m=\u001b[0m \u001b[0m_drawerToImage\u001b[0m\u001b[0;34m(\u001b[0m\u001b[0md2d\u001b[0m\u001b[0;34m)\u001b[0m\u001b[0;34m\u001b[0m\u001b[0;34m\u001b[0m\u001b[0m\n",
      "\u001b[0;31mValueError\u001b[0m: Sanitization error: Can't kekulize mol.  Unkekulized atoms: 13 14 15\n"
     ]
    }
   ],
   "source": [
    "Draw.MolsToGridImage(a,molsPerRow=5,subImgSize=(200,200))\n"
   ]
  },
  {
   "cell_type": "code",
   "execution_count": 69,
   "metadata": {},
   "outputs": [],
   "source": [
    "m = Chem.MolFromSmiles(str_from_line('data-center/scaffolds_c.smi', 4444))"
   ]
  },
  {
   "cell_type": "code",
   "execution_count": 65,
   "metadata": {},
   "outputs": [
    {
     "data": {
      "text/plain": [
       "338903"
      ]
     },
     "execution_count": 65,
     "metadata": {},
     "output_type": "execute_result"
    }
   ],
   "source": [
    "get_num_lines('data-center/scaffolds_a.smi')"
   ]
  },
  {
   "cell_type": "code",
   "execution_count": 68,
   "metadata": {},
   "outputs": [
    {
     "data": {
      "text/plain": [
       "'[CH3:0][CH:1]([CH2:2][CH2:3][CH:4]1[CH2:5][CH2:6][CH2:7][CH2:8][CH2:9]1)[CH2:10][CH2:11][CH:12]1[CH2:13][CH2:14][CH:15]([CH2:16][CH:17]2[CH2:18][CH2:19][CH2:20][CH2:21][CH2:22]2)[CH2:23][CH2:24]1'"
      ]
     },
     "execution_count": 68,
     "metadata": {},
     "output_type": "execute_result"
    }
   ],
   "source": [
    "str_from_line('data-center/scaffolds_c.smi', 4444)"
   ]
  },
  {
   "cell_type": "code",
   "execution_count": 71,
   "metadata": {},
   "outputs": [],
   "source": [
    "m = Chem.RemoveHs(m)"
   ]
  },
  {
   "cell_type": "code",
   "execution_count": 72,
   "metadata": {},
   "outputs": [
    {
     "name": "stdout",
     "output_type": "stream",
     "text": [
      "3\n",
      "1\n",
      "2\n",
      "2\n",
      "1\n",
      "2\n",
      "2\n",
      "2\n",
      "2\n",
      "2\n",
      "2\n",
      "2\n",
      "1\n",
      "2\n",
      "2\n",
      "1\n",
      "2\n",
      "1\n",
      "2\n",
      "2\n",
      "2\n",
      "2\n",
      "2\n",
      "2\n",
      "2\n"
     ]
    }
   ],
   "source": [
    "for atom in m.GetAtoms():\n",
    "    print(atom.GetNumExplicitHs())"
   ]
  },
  {
   "cell_type": "code",
   "execution_count": 73,
   "metadata": {},
   "outputs": [
    {
     "data": {
      "image/png": "[encoded data removed]",
      "text/plain": [
       "<rdkit.Chem.rdchem.Mol at 0x7efec0527120>"
      ]
     },
     "execution_count": 73,
     "metadata": {},
     "output_type": "execute_result"
    }
   ],
   "source": [
    "m"
   ]
  },
  {
   "cell_type": "code",
   "execution_count": null,
   "metadata": {},
   "outputs": [],
   "source": []
  }
 ],
 "metadata": {
  "kernelspec": {
   "display_name": "Python 3",
   "language": "python",
   "name": "python3"
  },
  "language_info": {
   "codemirror_mode": {
    "name": "ipython",
    "version": 3
   },
   "file_extension": ".py",
   "mimetype": "text/x-python",
   "name": "python",
   "nbconvert_exporter": "python",
   "pygments_lexer": "ipython3",
   "version": "3.7.3"
  }
 },
 "nbformat": 4,
 "nbformat_minor": 2
}
